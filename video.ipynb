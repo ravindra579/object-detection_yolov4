{
 "metadata": {
  "language_info": {
   "codemirror_mode": {
    "name": "ipython",
    "version": 3
   },
   "file_extension": ".py",
   "mimetype": "text/x-python",
   "name": "python",
   "nbconvert_exporter": "python",
   "pygments_lexer": "ipython3",
   "version": "3.8.3-final"
  },
  "orig_nbformat": 2,
  "kernelspec": {
   "name": "Python 3.8.3 64-bit",
   "display_name": "Python 3.8.3 64-bit",
   "metadata": {
    "interpreter": {
     "hash": "789ed8a184629af844c1a1b92ef14de3df05197f9908338920e0ad3074b69815"
    }
   }
  }
 },
 "nbformat": 4,
 "nbformat_minor": 2,
 "cells": [
  {
   "cell_type": "code",
   "execution_count": null,
   "metadata": {},
   "outputs": [],
   "source": [
    "from keras.models import Model\n",
    "from yolov4_model import yolov4_model\n",
    "model=yolov4_model()\n",
    "from yolov4_ import load_image_pixels,bounding_boxes"
   ]
  },
  {
   "cell_type": "code",
   "execution_count": null,
   "metadata": {},
   "outputs": [],
   "source": [
    "import numpy as np\n",
    "import pandas as pd \n",
    "import os\n",
    "import cv2 as c\n",
    "from cv2 import cv2\n",
    "import matplotlib.pyplot as plt \n",
    "from PIL import Image\n",
    "import matplotlib.patches as patches\n",
    "import time\n",
    "from keras.preprocessing.image import load_img,img_to_array\n",
    "import tensorflow as tf"
   ]
  },
  {
   "cell_type": "code",
   "execution_count": null,
   "metadata": {},
   "outputs": [],
   "source": [
    "def read_labels(labels_path):\n",
    "    with open(labels_path) as f:\n",
    "        labels = f.readlines()\n",
    "    labels = [c.strip() for c in labels]\n",
    "    return labels"
   ]
  },
  {
   "cell_type": "code",
   "execution_count": null,
   "metadata": {},
   "outputs": [],
   "source": [
    "model.load_weights(\"check.h5\")"
   ]
  },
  {
   "cell_type": "code",
   "execution_count": null,
   "metadata": {},
   "outputs": [],
   "source": [
    " labels = read_labels(\"model.txt\")"
   ]
  },
  {
   "cell_type": "code",
   "execution_count": null,
   "metadata": {},
   "outputs": [],
   "source": [
    "video_capture=c.VideoCapture(0)\n",
    "while True:\n",
    "    return_value,frame=video_capture.read()\n",
    "    if return_value:\n",
    "        frame=frame[:,:,::-1]\n",
    "        #frame=c.cvtcolor(frame,c.COLOR_BGR2RGB)\n",
    "        image=Image.fromarray(frame)\n",
    "        frame=frame[:,:,::-1]\n",
    "        frame=cv2.resize(frame,(416,416))\n",
    "        image = img_to_array(frame)# convert to numpy array\n",
    "        image = image.astype('float32')# scale pixel values to [0, 1]\n",
    "        image /= 255.0\n",
    "        image = tf.expand_dims(image, 0)\n",
    "        #image,image_h,image_w=load_image_pixels(frame,(416,416))\n",
    "        yhat=model.predict(image)\n",
    "        start=time.time()\n",
    "        bounding_boxes(yhat,frame,labels)\n",
    "        end=time.time()\n",
    "        print(1/(end-start))\n",
    "    else:\n",
    "        print(\"video not found\")\n",
    "        break"
   ]
  },
  {
   "cell_type": "code",
   "execution_count": null,
   "metadata": {},
   "outputs": [],
   "source": []
  }
 ]
}